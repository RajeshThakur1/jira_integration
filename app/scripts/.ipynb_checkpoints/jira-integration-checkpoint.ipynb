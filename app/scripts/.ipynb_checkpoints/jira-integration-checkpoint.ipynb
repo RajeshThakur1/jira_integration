{
 "cells": [
  {
   "cell_type": "code",
   "execution_count": 9,
   "id": "1a4c01a2-a8bc-4835-81f8-ef56ec28b20f",
   "metadata": {},
   "outputs": [
    {
     "name": "stderr",
     "output_type": "stream",
     "text": [
      "/Users/rajesh.kumar3/miniconda3/envs/sql_query/lib/python3.11/site-packages/urllib3/connectionpool.py:1103: InsecureRequestWarning: Unverified HTTPS request is being made to host 'blrinnovation.atlassian.net'. Adding certificate verification is strongly advised. See: https://urllib3.readthedocs.io/en/latest/advanced-usage.html#tls-warnings\n",
      "  warnings.warn(\n"
     ]
    },
    {
     "name": "stdout",
     "output_type": "stream",
     "text": [
      "14\n",
      "data science\n",
      "Automation for Jira\n",
      "Jira Outlook\n",
      "Atlassian Assist\n",
      "Microsoft Teams for Jira Cloud\n",
      "Slack\n",
      "Jira Service Management Widget\n",
      "System\n",
      "Trello\n",
      "Statuspage for Jira\n",
      "Jira Spreadsheets\n",
      "Proforma Migrator\n",
      "Sampada Savaikar\n",
      "Sampada Korde\n"
     ]
    }
   ],
   "source": [
    "import requests\n",
    "import json\n",
    "url=\"https://blrinnovation.atlassian.net/rest/api/2/users/search\"\n",
    "headers={\n",
    "    \"Accept\": \"application/json\",\n",
    "    \"Content-Type\": \"application/json\"\n",
    "}\n",
    "response=requests.get(url,headers=headers,auth=(\"datascienceexpert39@gmail.com\",\"ATATT3xFfGF0yU9GJnlCjdwzIrrrpVaNBQUL1sLWfLuwPEgMRGMTn4c8gHWPvxRgk7KOrkzPa2LfCu4hhms8xiC-bIXIWeVt-oUE_jq1vRfF5yCzhs9743RfXUGRtU1VB6Hl0LSGAYswic8RP-4sc2dW4Os_DpkoXpk0W3tSd0IKGYxPQILKw0c=958E9A92\"),verify=False)\n",
    "data=response.json()\n",
    "print(len(data))\n",
    "# print(data)\n",
    "for users in data:\n",
    "    # print(users)\n",
    "    print(users[\"displayName\"])\n",
    "    "
   ]
  },
  {
   "cell_type": "code",
   "execution_count": 10,
   "id": "1b5559cf-78ca-423a-963c-7a3b145f795a",
   "metadata": {},
   "outputs": [
    {
     "name": "stdout",
     "output_type": "stream",
     "text": [
      "Requirement already satisfied: jira-python in /Users/rajesh.kumar3/miniconda3/envs/sql_query/lib/python3.11/site-packages (0.2.4)\n",
      "Requirement already satisfied: requests<3.0.0,>=2.26.0 in /Users/rajesh.kumar3/miniconda3/envs/sql_query/lib/python3.11/site-packages (from jira-python) (2.31.0)\n",
      "Requirement already satisfied: charset-normalizer<4,>=2 in /Users/rajesh.kumar3/miniconda3/envs/sql_query/lib/python3.11/site-packages (from requests<3.0.0,>=2.26.0->jira-python) (3.3.2)\n",
      "Requirement already satisfied: idna<4,>=2.5 in /Users/rajesh.kumar3/miniconda3/envs/sql_query/lib/python3.11/site-packages (from requests<3.0.0,>=2.26.0->jira-python) (3.6)\n",
      "Requirement already satisfied: urllib3<3,>=1.21.1 in /Users/rajesh.kumar3/miniconda3/envs/sql_query/lib/python3.11/site-packages (from requests<3.0.0,>=2.26.0->jira-python) (2.2.1)\n",
      "Requirement already satisfied: certifi>=2017.4.17 in /Users/rajesh.kumar3/miniconda3/envs/sql_query/lib/python3.11/site-packages (from requests<3.0.0,>=2.26.0->jira-python) (2024.2.2)\n"
     ]
    }
   ],
   "source": [
    "!pip install jira-python"
   ]
  },
  {
   "cell_type": "code",
   "execution_count": 11,
   "id": "c8bced1b-5434-4089-b5f6-cc291ecdf655",
   "metadata": {},
   "outputs": [],
   "source": [
    "from jira.client import Client\n",
    "\n",
    "client = Client('https://blrinnovation.atlassian.net/', 'datascienceexpert39@gmail.com', '9038@Ram') # Host must have trailing slash"
   ]
  },
  {
   "cell_type": "code",
   "execution_count": 12,
   "id": "ba44987b-d062-4375-9376-e70834a70cb1",
   "metadata": {},
   "outputs": [
    {
     "ename": "InvalidIDError",
     "evalue": "[\"The 'permissions' query parameter is required.\"]",
     "output_type": "error",
     "traceback": [
      "\u001b[0;31m---------------------------------------------------------------------------\u001b[0m",
      "\u001b[0;31mInvalidIDError\u001b[0m                            Traceback (most recent call last)",
      "Cell \u001b[0;32mIn[12], line 1\u001b[0m\n\u001b[0;32m----> 1\u001b[0m response \u001b[38;5;241m=\u001b[39m \u001b[43mclient\u001b[49m\u001b[38;5;241;43m.\u001b[39;49m\u001b[43mget_permissions\u001b[49m\u001b[43m(\u001b[49m\u001b[43m)\u001b[49m\n",
      "File \u001b[0;32m~/miniconda3/envs/sql_query/lib/python3.11/site-packages/jira/client.py:42\u001b[0m, in \u001b[0;36mClient.get_permissions\u001b[0;34m(self, params)\u001b[0m\n\u001b[1;32m     14\u001b[0m \u001b[38;5;28;01mdef\u001b[39;00m \u001b[38;5;21mget_permissions\u001b[39m(\u001b[38;5;28mself\u001b[39m, params\u001b[38;5;241m=\u001b[39m\u001b[38;5;28;01mNone\u001b[39;00m):\n\u001b[1;32m     15\u001b[0m \u001b[38;5;250m    \u001b[39m\u001b[38;5;124;03m\"\"\"Returns all permissions in the system and whether the currently logged in user has them.\u001b[39;00m\n\u001b[1;32m     16\u001b[0m \u001b[38;5;124;03m    You can optionally provide a specific context to get permissions for (projectKey OR projectId OR issueKey OR\u001b[39;00m\n\u001b[1;32m     17\u001b[0m \u001b[38;5;124;03m    issueId)\u001b[39;00m\n\u001b[0;32m   (...)\u001b[0m\n\u001b[1;32m     40\u001b[0m \n\u001b[1;32m     41\u001b[0m \u001b[38;5;124;03m    \"\"\"\u001b[39;00m\n\u001b[0;32m---> 42\u001b[0m     \u001b[38;5;28;01mreturn\u001b[39;00m \u001b[38;5;28;43mself\u001b[39;49m\u001b[38;5;241;43m.\u001b[39;49m\u001b[43m_get\u001b[49m\u001b[43m(\u001b[49m\u001b[38;5;28;43mself\u001b[39;49m\u001b[38;5;241;43m.\u001b[39;49m\u001b[43mAPI_URL\u001b[49m\u001b[43m \u001b[49m\u001b[38;5;241;43m+\u001b[39;49m\u001b[43m \u001b[49m\u001b[38;5;124;43m'\u001b[39;49m\u001b[38;5;124;43mmypermissions\u001b[39;49m\u001b[38;5;124;43m'\u001b[39;49m\u001b[43m,\u001b[49m\u001b[43m \u001b[49m\u001b[43mparams\u001b[49m\u001b[38;5;241;43m=\u001b[39;49m\u001b[43mparams\u001b[49m\u001b[43m)\u001b[49m\n",
      "File \u001b[0;32m~/miniconda3/envs/sql_query/lib/python3.11/site-packages/jira/client.py:199\u001b[0m, in \u001b[0;36mClient._get\u001b[0;34m(self, path, params)\u001b[0m\n\u001b[1;32m    197\u001b[0m \u001b[38;5;28;01mdef\u001b[39;00m \u001b[38;5;21m_get\u001b[39m(\u001b[38;5;28mself\u001b[39m, path, params\u001b[38;5;241m=\u001b[39m\u001b[38;5;28;01mNone\u001b[39;00m):\n\u001b[1;32m    198\u001b[0m     response \u001b[38;5;241m=\u001b[39m requests\u001b[38;5;241m.\u001b[39mget(\u001b[38;5;28mself\u001b[39m\u001b[38;5;241m.\u001b[39mhost \u001b[38;5;241m+\u001b[39m path, params\u001b[38;5;241m=\u001b[39mparams, auth\u001b[38;5;241m=\u001b[39m(\u001b[38;5;28mself\u001b[39m\u001b[38;5;241m.\u001b[39muser, \u001b[38;5;28mself\u001b[39m\u001b[38;5;241m.\u001b[39mpassword))\n\u001b[0;32m--> 199\u001b[0m     \u001b[38;5;28;01mreturn\u001b[39;00m \u001b[38;5;28;43mself\u001b[39;49m\u001b[38;5;241;43m.\u001b[39;49m\u001b[43m_parse\u001b[49m\u001b[43m(\u001b[49m\u001b[43mresponse\u001b[49m\u001b[43m)\u001b[49m\n",
      "File \u001b[0;32m~/miniconda3/envs/sql_query/lib/python3.11/site-packages/jira/client.py:229\u001b[0m, in \u001b[0;36mClient._parse\u001b[0;34m(self, response)\u001b[0m\n\u001b[1;32m    227\u001b[0m     message \u001b[38;5;241m=\u001b[39m \u001b[38;5;124m'\u001b[39m\u001b[38;5;124mNo error message.\u001b[39m\u001b[38;5;124m'\u001b[39m\n\u001b[1;32m    228\u001b[0m \u001b[38;5;28;01mif\u001b[39;00m status_code \u001b[38;5;241m==\u001b[39m \u001b[38;5;241m400\u001b[39m:\n\u001b[0;32m--> 229\u001b[0m     \u001b[38;5;28;01mraise\u001b[39;00m InvalidIDError(message)\n\u001b[1;32m    230\u001b[0m \u001b[38;5;28;01mif\u001b[39;00m status_code \u001b[38;5;241m==\u001b[39m \u001b[38;5;241m401\u001b[39m:\n\u001b[1;32m    231\u001b[0m     \u001b[38;5;28;01mraise\u001b[39;00m NotAuthenticatedError(message)\n",
      "\u001b[0;31mInvalidIDError\u001b[0m: [\"The 'permissions' query parameter is required.\"]"
     ]
    }
   ],
   "source": [
    "response = client.get_permissions()\n"
   ]
  },
  {
   "cell_type": "code",
   "execution_count": 13,
   "id": "0d942962-9f61-4a41-8416-852da79aff60",
   "metadata": {},
   "outputs": [],
   "source": [
    "response = client.get_all_projects()\n"
   ]
  },
  {
   "cell_type": "code",
   "execution_count": 14,
   "id": "37b4e796-d720-4fbd-9f0e-9ef765cee551",
   "metadata": {},
   "outputs": [
    {
     "data": {
      "text/plain": [
       "[]"
      ]
     },
     "execution_count": 14,
     "metadata": {},
     "output_type": "execute_result"
    }
   ],
   "source": [
    "response"
   ]
  },
  {
   "cell_type": "code",
   "execution_count": 15,
   "id": "3f435a76-a267-4793-a1a4-c74bf4baa538",
   "metadata": {},
   "outputs": [
    {
     "ename": "NotFoundIDError",
     "evalue": "['Issue does not exist or you do not have permission to see it.']",
     "output_type": "error",
     "traceback": [
      "\u001b[0;31m---------------------------------------------------------------------------\u001b[0m",
      "\u001b[0;31mNotFoundIDError\u001b[0m                           Traceback (most recent call last)",
      "Cell \u001b[0;32mIn[15], line 1\u001b[0m\n\u001b[0;32m----> 1\u001b[0m response \u001b[38;5;241m=\u001b[39m \u001b[43mclient\u001b[49m\u001b[38;5;241;43m.\u001b[39;49m\u001b[43mget_issue\u001b[49m\u001b[43m(\u001b[49m\u001b[38;5;124;43m'\u001b[39;49m\u001b[38;5;124;43mISSUE_ID\u001b[39;49m\u001b[38;5;124;43m'\u001b[39;49m\u001b[43m)\u001b[49m\n",
      "File \u001b[0;32m~/miniconda3/envs/sql_query/lib/python3.11/site-packages/jira/client.py:100\u001b[0m, in \u001b[0;36mget_issue\u001b[0;34m(self, issue_id, params)\u001b[0m\n\u001b[1;32m      0\u001b[0m <Error retrieving source code with stack_data see ipython/ipython#13598>\n",
      "File \u001b[0;32m~/miniconda3/envs/sql_query/lib/python3.11/site-packages/jira/client.py:199\u001b[0m, in \u001b[0;36mClient._get\u001b[0;34m(self, path, params)\u001b[0m\n\u001b[1;32m    197\u001b[0m \u001b[38;5;28;01mdef\u001b[39;00m \u001b[38;5;21m_get\u001b[39m(\u001b[38;5;28mself\u001b[39m, path, params\u001b[38;5;241m=\u001b[39m\u001b[38;5;28;01mNone\u001b[39;00m):\n\u001b[1;32m    198\u001b[0m     response \u001b[38;5;241m=\u001b[39m requests\u001b[38;5;241m.\u001b[39mget(\u001b[38;5;28mself\u001b[39m\u001b[38;5;241m.\u001b[39mhost \u001b[38;5;241m+\u001b[39m path, params\u001b[38;5;241m=\u001b[39mparams, auth\u001b[38;5;241m=\u001b[39m(\u001b[38;5;28mself\u001b[39m\u001b[38;5;241m.\u001b[39muser, \u001b[38;5;28mself\u001b[39m\u001b[38;5;241m.\u001b[39mpassword))\n\u001b[0;32m--> 199\u001b[0m     \u001b[38;5;28;01mreturn\u001b[39;00m \u001b[38;5;28;43mself\u001b[39;49m\u001b[38;5;241;43m.\u001b[39;49m\u001b[43m_parse\u001b[49m\u001b[43m(\u001b[49m\u001b[43mresponse\u001b[49m\u001b[43m)\u001b[49m\n",
      "File \u001b[0;32m~/miniconda3/envs/sql_query/lib/python3.11/site-packages/jira/client.py:235\u001b[0m, in \u001b[0;36m_parse\u001b[0;34m(self, response)\u001b[0m\n\u001b[1;32m    222\u001b[0m \u001b[38;5;28;01mdef\u001b[39;00m \u001b[38;5;21m__init__\u001b[39m(\n\u001b[1;32m    223\u001b[0m     \u001b[38;5;28mself\u001b[39m,\n\u001b[1;32m    224\u001b[0m     iterable: Iterable \u001b[38;5;241m=\u001b[39m \u001b[38;5;28;01mNone\u001b[39;00m,\n\u001b[0;32m   (...)\u001b[0m\n\u001b[1;32m    228\u001b[0m     _isLast: \u001b[38;5;28mbool\u001b[39m \u001b[38;5;241m|\u001b[39m \u001b[38;5;28;01mNone\u001b[39;00m \u001b[38;5;241m=\u001b[39m \u001b[38;5;28;01mNone\u001b[39;00m,\n\u001b[1;32m    229\u001b[0m ) \u001b[38;5;241m-\u001b[39m\u001b[38;5;241m>\u001b[39m \u001b[38;5;28;01mNone\u001b[39;00m:\n\u001b[1;32m    230\u001b[0m \u001b[38;5;250m    \u001b[39m\u001b[38;5;124;03m\"\"\"Results List.\u001b[39;00m\n\u001b[1;32m    231\u001b[0m \n\u001b[1;32m    232\u001b[0m \u001b[38;5;124;03m    Args:\u001b[39;00m\n\u001b[1;32m    233\u001b[0m \u001b[38;5;124;03m        iterable (Iterable): [description]. Defaults to None.\u001b[39;00m\n\u001b[1;32m    234\u001b[0m \u001b[38;5;124;03m        _startAt (int): Start page. Defaults to 0.\u001b[39;00m\n\u001b[0;32m--> 235\u001b[0m \u001b[38;5;124;03m        _maxResults (int): Max results per page. Defaults to 0.\u001b[39;00m\n\u001b[1;32m    236\u001b[0m \u001b[38;5;124;03m        _total (Optional[int]): Total results from query. Defaults to 0.\u001b[39;00m\n\u001b[1;32m    237\u001b[0m \u001b[38;5;124;03m        _isLast (Optional[bool]): True to mark this page is the last page? (Default: ``None``).\u001b[39;00m\n\u001b[1;32m    238\u001b[0m \u001b[38;5;124;03m         see `The official API docs <https://developer.atlassian.com/cloud/jira/platform/rest/v3/intro/#expansion:~:text=for%20all%20operations.-,isLast,-indicates%20whether%20the>`_\u001b[39;00m\n\u001b[1;32m    239\u001b[0m \u001b[38;5;124;03m    \"\"\"\u001b[39;00m\n\u001b[1;32m    240\u001b[0m     \u001b[38;5;28;01mif\u001b[39;00m iterable \u001b[38;5;129;01mis\u001b[39;00m \u001b[38;5;129;01mnot\u001b[39;00m \u001b[38;5;28;01mNone\u001b[39;00m:\n\u001b[1;32m    241\u001b[0m         \u001b[38;5;28mlist\u001b[39m\u001b[38;5;241m.\u001b[39m\u001b[38;5;21m__init__\u001b[39m(\u001b[38;5;28mself\u001b[39m, iterable)\n",
      "\u001b[0;31mNotFoundIDError\u001b[0m: ['Issue does not exist or you do not have permission to see it.']"
     ]
    }
   ],
   "source": [
    "response = client.get_issue('ISSUE_ID')\n"
   ]
  },
  {
   "cell_type": "code",
   "execution_count": 16,
   "id": "0afb6f9d-d91a-4e5f-a66b-ad251a859f87",
   "metadata": {},
   "outputs": [
    {
     "name": "stdout",
     "output_type": "stream",
     "text": [
      "Requirement already satisfied: jira in /Users/rajesh.kumar3/miniconda3/envs/sql_query/lib/python3.11/site-packages (3.8.0)\n",
      "Requirement already satisfied: defusedxml in /Users/rajesh.kumar3/miniconda3/envs/sql_query/lib/python3.11/site-packages (from jira) (0.7.1)\n",
      "Requirement already satisfied: packaging in /Users/rajesh.kumar3/miniconda3/envs/sql_query/lib/python3.11/site-packages (from jira) (23.2)\n",
      "Requirement already satisfied: Pillow>=2.1.0 in /Users/rajesh.kumar3/miniconda3/envs/sql_query/lib/python3.11/site-packages (from jira) (10.3.0)\n",
      "Requirement already satisfied: requests-oauthlib>=1.1.0 in /Users/rajesh.kumar3/miniconda3/envs/sql_query/lib/python3.11/site-packages (from jira) (2.0.0)\n",
      "Requirement already satisfied: requests>=2.10.0 in /Users/rajesh.kumar3/miniconda3/envs/sql_query/lib/python3.11/site-packages (from jira) (2.31.0)\n",
      "Requirement already satisfied: requests-toolbelt in /Users/rajesh.kumar3/miniconda3/envs/sql_query/lib/python3.11/site-packages (from jira) (1.0.0)\n",
      "Requirement already satisfied: typing-extensions>=3.7.4.2 in /Users/rajesh.kumar3/miniconda3/envs/sql_query/lib/python3.11/site-packages (from jira) (4.11.0)\n",
      "Requirement already satisfied: charset-normalizer<4,>=2 in /Users/rajesh.kumar3/miniconda3/envs/sql_query/lib/python3.11/site-packages (from requests>=2.10.0->jira) (3.3.2)\n",
      "Requirement already satisfied: idna<4,>=2.5 in /Users/rajesh.kumar3/miniconda3/envs/sql_query/lib/python3.11/site-packages (from requests>=2.10.0->jira) (3.6)\n",
      "Requirement already satisfied: urllib3<3,>=1.21.1 in /Users/rajesh.kumar3/miniconda3/envs/sql_query/lib/python3.11/site-packages (from requests>=2.10.0->jira) (2.2.1)\n",
      "Requirement already satisfied: certifi>=2017.4.17 in /Users/rajesh.kumar3/miniconda3/envs/sql_query/lib/python3.11/site-packages (from requests>=2.10.0->jira) (2024.2.2)\n",
      "Requirement already satisfied: oauthlib>=3.0.0 in /Users/rajesh.kumar3/miniconda3/envs/sql_query/lib/python3.11/site-packages (from requests-oauthlib>=1.1.0->jira) (3.2.2)\n"
     ]
    }
   ],
   "source": [
    "!pip install jira\n"
   ]
  },
  {
   "cell_type": "code",
   "execution_count": 4,
   "id": "f3c2c63b-b68f-41c6-8e03-856a21bf3890",
   "metadata": {},
   "outputs": [],
   "source": [
    "\n",
    "\n",
    "\n"
   ]
  },
  {
   "cell_type": "code",
   "execution_count": 1,
   "id": "b9fe2e88-6c00-4143-a0da-1bd8b3f204de",
   "metadata": {
    "scrolled": true
   },
   "outputs": [
    {
     "name": "stderr",
     "output_type": "stream",
     "text": [
      "/Users/rajesh.kumar3/miniconda3/envs/sql_query/lib/python3.11/site-packages/urllib3/connectionpool.py:1103: InsecureRequestWarning: Unverified HTTPS request is being made to host 'blrinnovation.atlassian.net'. Adding certificate verification is strongly advised. See: https://urllib3.readthedocs.io/en/latest/advanced-usage.html#tls-warnings\n",
      "  warnings.warn(\n",
      "/Users/rajesh.kumar3/miniconda3/envs/sql_query/lib/python3.11/site-packages/urllib3/connectionpool.py:1103: InsecureRequestWarning: Unverified HTTPS request is being made to host 'blrinnovation.atlassian.net'. Adding certificate verification is strongly advised. See: https://urllib3.readthedocs.io/en/latest/advanced-usage.html#tls-warnings\n",
      "  warnings.warn(\n",
      "/Users/rajesh.kumar3/miniconda3/envs/sql_query/lib/python3.11/site-packages/urllib3/connectionpool.py:1103: InsecureRequestWarning: Unverified HTTPS request is being made to host 'blrinnovation.atlassian.net'. Adding certificate verification is strongly advised. See: https://urllib3.readthedocs.io/en/latest/advanced-usage.html#tls-warnings\n",
      "  warnings.warn(\n"
     ]
    },
    {
     "name": "stdout",
     "output_type": "stream",
     "text": [
      "Issue Key: IN-2\n",
      "Summary: Build JIRA Integration API\n",
      "Description: None\n",
      "Status: To Do\n",
      "Assignee: None\n",
      "comments -----\n",
      "--------------------------------------------------\n",
      "Issue Key: IN-1\n",
      "Summary: jira integration\n",
      "Description: build the system which can take the Jira issues and develop the code by understanding the summary.\n",
      "Status: To Do\n",
      "Assignee: data science\n",
      "comments -----\n",
      "- Author: data science\n",
      "  Created: 2024-05-20T22:54:37.247+0530\n",
      "  Comment: design the initial setup to fetch the information from Jira and store in DB\n",
      "- Author: data science\n",
      "  Created: 2024-05-20T23:16:14.489+0530\n",
      "  Comment: test commet1\n",
      "--------------------------------------------------\n"
     ]
    }
   ],
   "source": [
    "from jira import JIRA\n",
    "\n",
    "# Your JIRA instance URL\n",
    "jira_url = 'https://blrinnovation.atlassian.net'\n",
    "\n",
    "# Your JIRA username and API token\n",
    "jira_user = 'datascienceexpert39@gmail.com'\n",
    "jira_api_token = 'ATATT3xFfGF0yU9GJnlCjdwzIrrrpVaNBQUL1sLWfLuwPEgMRGMTn4c8gHWPvxRgk7KOrkzPa2LfCu4hhms8xiC-bIXIWeVt-oUE_jq1vRfF5yCzhs9743RfXUGRtU1VB6Hl0LSGAYswic8RP-4sc2dW4Os_DpkoXpk0W3tSd0IKGYxPQILKw0c=958E9A92'\n",
    "\n",
    "# Connect to JIRA\n",
    "# jira = JIRA(jira_url, basic_auth=(jira_user, jira_api_token),ver)\n",
    "jira = JIRA(jira_url, basic_auth=(jira_user, jira_api_token), options={'server': jira_url, 'verify': False})\n",
    "\n",
    "# Fetch issues using JQL (Jira Query Language)\n",
    "# For example, to fetch all issues from a project with key \"PROJECT_KEY\"\n",
    "project_key = 'innovation'\n",
    "issues = jira.search_issues(f'project={project_key}')\n",
    "\n",
    "# Print basic details of each issue\n",
    "for issue in issues:\n",
    "    print(f\"Issue Key: {issue.key}\")\n",
    "    print(f\"Summary: {issue.fields.summary}\")\n",
    "    print(f\"Description: {issue.fields.description}\")\n",
    "    print(f\"Status: {issue.fields.status.name}\")\n",
    "    print(f\"Assignee: {issue.fields.assignee}\")\n",
    "    print(\"comments -----\")\n",
    "    for comment in issue.fields.comment.comments:  # Iterate over comments\n",
    "        author = comment.author.displayName\n",
    "        body = comment.body\n",
    "        created = comment.created\n",
    "        print(f\"- Author: {author}\")\n",
    "        print(f\"  Created: {created}\")\n",
    "        print(f\"  Comment: {body}\")\n",
    "    \n",
    "    print(\"-\" * 50)\n"
   ]
  },
  {
   "cell_type": "code",
   "execution_count": 3,
   "id": "77bf346c-b672-4941-9a31-73ce41c91e6b",
   "metadata": {},
   "outputs": [
    {
     "name": "stdout",
     "output_type": "stream",
     "text": [
      "Collecting pymongo\n",
      "  Downloading pymongo-4.7.2-cp311-cp311-macosx_11_0_arm64.whl.metadata (22 kB)\n",
      "Collecting dnspython<3.0.0,>=1.16.0 (from pymongo)\n",
      "  Using cached dnspython-2.6.1-py3-none-any.whl.metadata (5.8 kB)\n",
      "Downloading pymongo-4.7.2-cp311-cp311-macosx_11_0_arm64.whl (486 kB)\n",
      "\u001b[2K   \u001b[90m━━━━━━━━━━━━━━━━━━━━━━━━━━━━━━━━━━━━━━━━\u001b[0m \u001b[32m486.4/486.4 kB\u001b[0m \u001b[31m8.0 MB/s\u001b[0m eta \u001b[36m0:00:00\u001b[0ma \u001b[36m0:00:01\u001b[0m\n",
      "\u001b[?25hUsing cached dnspython-2.6.1-py3-none-any.whl (307 kB)\n",
      "Installing collected packages: dnspython, pymongo\n",
      "Successfully installed dnspython-2.6.1 pymongo-4.7.2\n"
     ]
    }
   ],
   "source": [
    "!pip install pymongo"
   ]
  },
  {
   "cell_type": "code",
   "execution_count": 12,
   "id": "c5a0f8da-67a0-43c6-b93e-02283d5939cd",
   "metadata": {},
   "outputs": [
    {
     "name": "stderr",
     "output_type": "stream",
     "text": [
      "/Users/rajesh.kumar3/miniconda3/envs/sql_query/lib/python3.11/site-packages/urllib3/connectionpool.py:1103: InsecureRequestWarning: Unverified HTTPS request is being made to host 'blrinnovation.atlassian.net'. Adding certificate verification is strongly advised. See: https://urllib3.readthedocs.io/en/latest/advanced-usage.html#tls-warnings\n",
      "  warnings.warn(\n",
      "/Users/rajesh.kumar3/miniconda3/envs/sql_query/lib/python3.11/site-packages/urllib3/connectionpool.py:1103: InsecureRequestWarning: Unverified HTTPS request is being made to host 'blrinnovation.atlassian.net'. Adding certificate verification is strongly advised. See: https://urllib3.readthedocs.io/en/latest/advanced-usage.html#tls-warnings\n",
      "  warnings.warn(\n",
      "/Users/rajesh.kumar3/miniconda3/envs/sql_query/lib/python3.11/site-packages/urllib3/connectionpool.py:1103: InsecureRequestWarning: Unverified HTTPS request is being made to host 'blrinnovation.atlassian.net'. Adding certificate verification is strongly advised. See: https://urllib3.readthedocs.io/en/latest/advanced-usage.html#tls-warnings\n",
      "  warnings.warn(\n"
     ]
    },
    {
     "name": "stdout",
     "output_type": "stream",
     "text": [
      "Issue IN-2 inserted.\n",
      "Issue IN-1 inserted.\n"
     ]
    }
   ],
   "source": [
    "from jira import JIRA\n",
    "import pymongo\n",
    "import json\n",
    "\n",
    "# MongoDB connection parameters\n",
    "mongo_url = 'mongodb://localhost:27017/'  # Update with your MongoDB connection string\n",
    "mongo_db_name = 'jira_db'  # Update with your database name\n",
    "mongo_collection_name = 'jira_issues'  # Update with your collection name\n",
    "\n",
    "# Your JIRA instance URL\n",
    "jira_url = 'https://blrinnovation.atlassian.net'\n",
    "\n",
    "# Your JIRA username and API token\n",
    "jira_user = 'datascienceexpert39@gmail.com'\n",
    "jira_api_token = 'ATATT3xFfGF0yU9GJnlCjdwzIrrrpVaNBQUL1sLWfLuwPEgMRGMTn4c8gHWPvxRgk7KOrkzPa2LfCu4hhms8xiC-bIXIWeVt-oUE_jq1vRfF5yCzhs9743RfXUGRtU1VB6Hl0LSGAYswic8RP-4sc2dW4Os_DpkoXpk0W3tSd0IKGYxPQILKw0c=958E9A92'  # Replace with your real API token\n",
    "\n",
    "# Connect to JIRA\n",
    "jira = JIRA(jira_url, basic_auth=(jira_user, jira_api_token), options={'server': jira_url, 'verify': False})\n",
    "\n",
    "# Connect to MongoDB\n",
    "mongo_client = pymongo.MongoClient(mongo_url)\n",
    "mongo_db = mongo_client[mongo_db_name]\n",
    "mongo_collection = mongo_db[mongo_collection_name]\n",
    "mongo_collection.drop()\n",
    "mongo_collection = mongo_db[mongo_collection_name]\n",
    "\n",
    "# Fetch issues using JQL (Jira Query Language)\n",
    "project_key = 'innovation'\n",
    "issues = jira.search_issues(f'project={project_key}')\n",
    "\n",
    "# Iterate over each issue\n",
    "for issue in issues:\n",
    "    issue_comments = []\n",
    "    for comment in issue.fields.comment.comments:\n",
    "        issue_comments.append({\n",
    "            \"Author\": comment.author.displayName,\n",
    "            \"Created\": comment.created,\n",
    "            \"Comment\": comment.body\n",
    "        })\n",
    "\n",
    "    # Check if the issue already exists in the database\n",
    "    existing_issue = mongo_collection.find_one({\"Issue Key\": issue.key})\n",
    "\n",
    "    if existing_issue:\n",
    "        # Check for new comments\n",
    "        existing_comments = existing_issue.get(\"Comments\", [])\n",
    "        existing_comment_bodies = [c['Comment'] for c in existing_comments]\n",
    "        new_comments = [comment for comment in issue_comments if comment['Comment'] not in existing_comment_bodies]\n",
    "    \n",
    "        if new_comments:\n",
    "            # Append new comments to the existing issue\n",
    "            mongo_collection.update_one(\n",
    "                {\"_id\": existing_issue['_id']},\n",
    "                {\"\\$push\": {\"Comments\": {\"\\$each\": new_comments}}}\n",
    "            )\n",
    "            print(f\"New comments added to issue {issue.key}.\")\n",
    "        else:\n",
    "            print(f\"No new comments to add for issue {issue.key}.\")\n",
    "\n",
    "\n",
    "    # if existing_issue:\n",
    "    #     # Check for new comments\n",
    "    #     existing_comments = existing_issue.get(\"Comments\", [])\n",
    "    #     new_comments = [comment for comment in issue_comments if comment not in existing_comments]\n",
    "\n",
    "    #     if new_comments:\n",
    "    #         # Append new comments to the existing issue\n",
    "    #         mongo_collection.update_one({\"_id\": existing_issue['_id']}, {\"\\$push\": {\"Comments\": {\"\\$each\": new_comments}}})\n",
    "    #         print(f\"New comments added to issue {issue.key}.\")\n",
    "    #     else:\n",
    "    #         print(f\"No new comments to add for issue {issue.key}.\")\n",
    "\n",
    "    \n",
    "    else:\n",
    "        # Insert new issue\n",
    "        issue_data = {\n",
    "            \"Issue Key\": issue.key,\n",
    "            \"Summary\": issue.fields.summary,\n",
    "            \"Description\": issue.fields.description,\n",
    "            \"Status\": issue.fields.status.name,\n",
    "            \"Assignee\": issue.fields.assignee.displayName if issue.fields.assignee else 'Unassigned',\n",
    "            \"Comments\": issue_comments\n",
    "        }\n",
    "        mongo_collection.insert_one(issue_data)\n",
    "        print(f\"Issue {issue.key} inserted.\")\n",
    "\n",
    "# Close the MongoDB connection\n",
    "mongo_client.close()"
   ]
  },
  {
   "cell_type": "markdown",
   "id": "f97e2b46-a849-4cac-a6c2-3b2b637b00bb",
   "metadata": {},
   "source": [
    "### Building an AI Agent With Memory Using MongoDB, Fireworks AI, and LangChain"
   ]
  },
  {
   "cell_type": "code",
   "execution_count": 5,
   "id": "2c1acd22-3acc-4e0f-8512-e82ed90a1c48",
   "metadata": {},
   "outputs": [
    {
     "name": "stdout",
     "output_type": "stream",
     "text": [
      "zsh:1: command not found: pymongo\n",
      "Requirement already satisfied: langchain in /Users/rajesh.kumar3/miniconda3/envs/sql_query/lib/python3.11/site-packages (0.1.14)\n",
      "Requirement already satisfied: langchain_openai in /Users/rajesh.kumar3/miniconda3/envs/sql_query/lib/python3.11/site-packages (0.1.1)\n",
      "Collecting langchain-fireworks\n",
      "  Using cached langchain_fireworks-0.1.3-py3-none-any.whl.metadata (3.9 kB)\n",
      "Collecting langchain-mongodb\n",
      "  Using cached langchain_mongodb-0.1.5-py3-none-any.whl.metadata (2.3 kB)\n",
      "Collecting arxiv\n",
      "  Using cached arxiv-2.1.0-py3-none-any.whl.metadata (6.1 kB)\n",
      "Collecting pymupdf\n",
      "  Downloading PyMuPDF-1.24.4-cp311-none-macosx_11_0_arm64.whl.metadata (3.4 kB)\n",
      "Collecting datasets\n",
      "  Using cached datasets-2.19.1-py3-none-any.whl.metadata (19 kB)\n",
      "Requirement already satisfied: PyYAML>=5.3 in /Users/rajesh.kumar3/miniconda3/envs/sql_query/lib/python3.11/site-packages (from langchain) (6.0.1)\n",
      "Requirement already satisfied: SQLAlchemy<3,>=1.4 in /Users/rajesh.kumar3/miniconda3/envs/sql_query/lib/python3.11/site-packages (from langchain) (2.0.29)\n",
      "Requirement already satisfied: aiohttp<4.0.0,>=3.8.3 in /Users/rajesh.kumar3/miniconda3/envs/sql_query/lib/python3.11/site-packages (from langchain) (3.9.3)\n",
      "Requirement already satisfied: dataclasses-json<0.7,>=0.5.7 in /Users/rajesh.kumar3/miniconda3/envs/sql_query/lib/python3.11/site-packages (from langchain) (0.6.4)\n",
      "Requirement already satisfied: jsonpatch<2.0,>=1.33 in /Users/rajesh.kumar3/miniconda3/envs/sql_query/lib/python3.11/site-packages (from langchain) (1.33)\n",
      "Requirement already satisfied: langchain-community<0.1,>=0.0.30 in /Users/rajesh.kumar3/miniconda3/envs/sql_query/lib/python3.11/site-packages (from langchain) (0.0.31)\n",
      "Requirement already satisfied: langchain-core<0.2.0,>=0.1.37 in /Users/rajesh.kumar3/miniconda3/envs/sql_query/lib/python3.11/site-packages (from langchain) (0.1.40)\n",
      "Requirement already satisfied: langchain-text-splitters<0.1,>=0.0.1 in /Users/rajesh.kumar3/miniconda3/envs/sql_query/lib/python3.11/site-packages (from langchain) (0.0.1)\n",
      "Requirement already satisfied: langsmith<0.2.0,>=0.1.17 in /Users/rajesh.kumar3/miniconda3/envs/sql_query/lib/python3.11/site-packages (from langchain) (0.1.40)\n",
      "Requirement already satisfied: numpy<2,>=1 in /Users/rajesh.kumar3/miniconda3/envs/sql_query/lib/python3.11/site-packages (from langchain) (1.26.4)\n",
      "Requirement already satisfied: pydantic<3,>=1 in /Users/rajesh.kumar3/miniconda3/envs/sql_query/lib/python3.11/site-packages (from langchain) (2.6.4)\n",
      "Requirement already satisfied: requests<3,>=2 in /Users/rajesh.kumar3/miniconda3/envs/sql_query/lib/python3.11/site-packages (from langchain) (2.31.0)\n",
      "Requirement already satisfied: tenacity<9.0.0,>=8.1.0 in /Users/rajesh.kumar3/miniconda3/envs/sql_query/lib/python3.11/site-packages (from langchain) (8.2.3)\n",
      "Requirement already satisfied: openai<2.0.0,>=1.10.0 in /Users/rajesh.kumar3/miniconda3/envs/sql_query/lib/python3.11/site-packages (from langchain_openai) (1.16.2)\n",
      "Requirement already satisfied: tiktoken<1,>=0.5.2 in /Users/rajesh.kumar3/miniconda3/envs/sql_query/lib/python3.11/site-packages (from langchain_openai) (0.6.0)\n",
      "Collecting fireworks-ai>=0.13.0 (from langchain-fireworks)\n",
      "  Using cached fireworks_ai-0.14.0-py3-none-any.whl.metadata (5.1 kB)\n",
      "Collecting langchain-core<0.2.0,>=0.1.37 (from langchain)\n",
      "  Using cached langchain_core-0.1.52-py3-none-any.whl.metadata (5.9 kB)\n",
      "Requirement already satisfied: pymongo<5.0,>=4.6.1 in /Users/rajesh.kumar3/miniconda3/envs/sql_query/lib/python3.11/site-packages (from langchain-mongodb) (4.7.2)\n",
      "Collecting feedparser==6.0.10 (from arxiv)\n",
      "  Using cached feedparser-6.0.10-py3-none-any.whl.metadata (2.3 kB)\n",
      "Collecting sgmllib3k (from feedparser==6.0.10->arxiv)\n",
      "  Using cached sgmllib3k-1.0.0-py3-none-any.whl\n",
      "Requirement already satisfied: charset-normalizer<4,>=2 in /Users/rajesh.kumar3/miniconda3/envs/sql_query/lib/python3.11/site-packages (from requests<3,>=2->langchain) (3.3.2)\n",
      "Requirement already satisfied: idna<4,>=2.5 in /Users/rajesh.kumar3/miniconda3/envs/sql_query/lib/python3.11/site-packages (from requests<3,>=2->langchain) (3.6)\n",
      "Requirement already satisfied: urllib3<3,>=1.21.1 in /Users/rajesh.kumar3/miniconda3/envs/sql_query/lib/python3.11/site-packages (from requests<3,>=2->langchain) (2.2.1)\n",
      "Requirement already satisfied: certifi>=2017.4.17 in /Users/rajesh.kumar3/miniconda3/envs/sql_query/lib/python3.11/site-packages (from requests<3,>=2->langchain) (2024.2.2)\n",
      "Collecting PyMuPDFb==1.24.3 (from pymupdf)\n",
      "  Using cached PyMuPDFb-1.24.3-py3-none-macosx_11_0_arm64.whl.metadata (1.4 kB)\n",
      "Requirement already satisfied: filelock in /Users/rajesh.kumar3/miniconda3/envs/sql_query/lib/python3.11/site-packages (from datasets) (3.13.3)\n",
      "Collecting pyarrow>=12.0.0 (from datasets)\n",
      "  Downloading pyarrow-16.1.0-cp311-cp311-macosx_11_0_arm64.whl.metadata (3.0 kB)\n",
      "Collecting pyarrow-hotfix (from datasets)\n",
      "  Using cached pyarrow_hotfix-0.6-py3-none-any.whl.metadata (3.6 kB)\n",
      "Collecting dill<0.3.9,>=0.3.0 (from datasets)\n",
      "  Using cached dill-0.3.8-py3-none-any.whl.metadata (10 kB)\n",
      "Requirement already satisfied: pandas in /Users/rajesh.kumar3/miniconda3/envs/sql_query/lib/python3.11/site-packages (from datasets) (2.2.1)\n",
      "Requirement already satisfied: tqdm>=4.62.1 in /Users/rajesh.kumar3/miniconda3/envs/sql_query/lib/python3.11/site-packages (from datasets) (4.66.2)\n",
      "Collecting xxhash (from datasets)\n",
      "  Using cached xxhash-3.4.1-cp311-cp311-macosx_11_0_arm64.whl.metadata (12 kB)\n",
      "Collecting multiprocess (from datasets)\n",
      "  Using cached multiprocess-0.70.16-py311-none-any.whl.metadata (7.2 kB)\n",
      "Requirement already satisfied: fsspec<=2024.3.1,>=2023.1.0 in /Users/rajesh.kumar3/miniconda3/envs/sql_query/lib/python3.11/site-packages (from fsspec[http]<=2024.3.1,>=2023.1.0->datasets) (2024.3.1)\n",
      "Requirement already satisfied: huggingface-hub>=0.21.2 in /Users/rajesh.kumar3/miniconda3/envs/sql_query/lib/python3.11/site-packages (from datasets) (0.22.2)\n",
      "Requirement already satisfied: packaging in /Users/rajesh.kumar3/miniconda3/envs/sql_query/lib/python3.11/site-packages (from datasets) (23.2)\n",
      "Requirement already satisfied: aiosignal>=1.1.2 in /Users/rajesh.kumar3/miniconda3/envs/sql_query/lib/python3.11/site-packages (from aiohttp<4.0.0,>=3.8.3->langchain) (1.3.1)\n",
      "Requirement already satisfied: attrs>=17.3.0 in /Users/rajesh.kumar3/miniconda3/envs/sql_query/lib/python3.11/site-packages (from aiohttp<4.0.0,>=3.8.3->langchain) (23.2.0)\n",
      "Requirement already satisfied: frozenlist>=1.1.1 in /Users/rajesh.kumar3/miniconda3/envs/sql_query/lib/python3.11/site-packages (from aiohttp<4.0.0,>=3.8.3->langchain) (1.4.1)\n",
      "Requirement already satisfied: multidict<7.0,>=4.5 in /Users/rajesh.kumar3/miniconda3/envs/sql_query/lib/python3.11/site-packages (from aiohttp<4.0.0,>=3.8.3->langchain) (6.0.5)\n",
      "Requirement already satisfied: yarl<2.0,>=1.0 in /Users/rajesh.kumar3/miniconda3/envs/sql_query/lib/python3.11/site-packages (from aiohttp<4.0.0,>=3.8.3->langchain) (1.9.4)\n",
      "Requirement already satisfied: marshmallow<4.0.0,>=3.18.0 in /Users/rajesh.kumar3/miniconda3/envs/sql_query/lib/python3.11/site-packages (from dataclasses-json<0.7,>=0.5.7->langchain) (3.21.1)\n",
      "Requirement already satisfied: typing-inspect<1,>=0.4.0 in /Users/rajesh.kumar3/miniconda3/envs/sql_query/lib/python3.11/site-packages (from dataclasses-json<0.7,>=0.5.7->langchain) (0.9.0)\n",
      "Requirement already satisfied: httpx in /Users/rajesh.kumar3/miniconda3/envs/sql_query/lib/python3.11/site-packages (from fireworks-ai>=0.13.0->langchain-fireworks) (0.27.0)\n",
      "Collecting httpx-sse (from fireworks-ai>=0.13.0->langchain-fireworks)\n",
      "  Using cached httpx_sse-0.4.0-py3-none-any.whl.metadata (9.0 kB)\n",
      "Requirement already satisfied: Pillow in /Users/rajesh.kumar3/miniconda3/envs/sql_query/lib/python3.11/site-packages (from fireworks-ai>=0.13.0->langchain-fireworks) (10.3.0)\n",
      "Requirement already satisfied: typing-extensions>=3.7.4.3 in /Users/rajesh.kumar3/miniconda3/envs/sql_query/lib/python3.11/site-packages (from huggingface-hub>=0.21.2->datasets) (4.11.0)\n",
      "Requirement already satisfied: jsonpointer>=1.9 in /Users/rajesh.kumar3/miniconda3/envs/sql_query/lib/python3.11/site-packages (from jsonpatch<2.0,>=1.33->langchain) (2.4)\n",
      "Requirement already satisfied: orjson<4.0.0,>=3.9.14 in /Users/rajesh.kumar3/miniconda3/envs/sql_query/lib/python3.11/site-packages (from langsmith<0.2.0,>=0.1.17->langchain) (3.10.0)\n",
      "Requirement already satisfied: anyio<5,>=3.5.0 in /Users/rajesh.kumar3/miniconda3/envs/sql_query/lib/python3.11/site-packages (from openai<2.0.0,>=1.10.0->langchain_openai) (4.3.0)\n",
      "Requirement already satisfied: distro<2,>=1.7.0 in /Users/rajesh.kumar3/miniconda3/envs/sql_query/lib/python3.11/site-packages (from openai<2.0.0,>=1.10.0->langchain_openai) (1.9.0)\n",
      "Requirement already satisfied: sniffio in /Users/rajesh.kumar3/miniconda3/envs/sql_query/lib/python3.11/site-packages (from openai<2.0.0,>=1.10.0->langchain_openai) (1.3.1)\n",
      "Requirement already satisfied: annotated-types>=0.4.0 in /Users/rajesh.kumar3/miniconda3/envs/sql_query/lib/python3.11/site-packages (from pydantic<3,>=1->langchain) (0.6.0)\n",
      "Requirement already satisfied: pydantic-core==2.16.3 in /Users/rajesh.kumar3/miniconda3/envs/sql_query/lib/python3.11/site-packages (from pydantic<3,>=1->langchain) (2.16.3)\n",
      "Requirement already satisfied: dnspython<3.0.0,>=1.16.0 in /Users/rajesh.kumar3/miniconda3/envs/sql_query/lib/python3.11/site-packages (from pymongo<5.0,>=4.6.1->langchain-mongodb) (2.6.1)\n",
      "Requirement already satisfied: regex>=2022.1.18 in /Users/rajesh.kumar3/miniconda3/envs/sql_query/lib/python3.11/site-packages (from tiktoken<1,>=0.5.2->langchain_openai) (2023.12.25)\n",
      "Requirement already satisfied: python-dateutil>=2.8.2 in /Users/rajesh.kumar3/miniconda3/envs/sql_query/lib/python3.11/site-packages (from pandas->datasets) (2.9.0.post0)\n",
      "Requirement already satisfied: pytz>=2020.1 in /Users/rajesh.kumar3/miniconda3/envs/sql_query/lib/python3.11/site-packages (from pandas->datasets) (2024.1)\n",
      "Requirement already satisfied: tzdata>=2022.7 in /Users/rajesh.kumar3/miniconda3/envs/sql_query/lib/python3.11/site-packages (from pandas->datasets) (2024.1)\n",
      "Requirement already satisfied: httpcore==1.* in /Users/rajesh.kumar3/miniconda3/envs/sql_query/lib/python3.11/site-packages (from httpx->fireworks-ai>=0.13.0->langchain-fireworks) (1.0.5)\n",
      "Requirement already satisfied: h11<0.15,>=0.13 in /Users/rajesh.kumar3/miniconda3/envs/sql_query/lib/python3.11/site-packages (from httpcore==1.*->httpx->fireworks-ai>=0.13.0->langchain-fireworks) (0.14.0)\n",
      "Requirement already satisfied: six>=1.5 in /Users/rajesh.kumar3/miniconda3/envs/sql_query/lib/python3.11/site-packages (from python-dateutil>=2.8.2->pandas->datasets) (1.16.0)\n",
      "Requirement already satisfied: mypy-extensions>=0.3.0 in /Users/rajesh.kumar3/miniconda3/envs/sql_query/lib/python3.11/site-packages (from typing-inspect<1,>=0.4.0->dataclasses-json<0.7,>=0.5.7->langchain) (1.0.0)\n",
      "Using cached langchain_fireworks-0.1.3-py3-none-any.whl (15 kB)\n",
      "Using cached langchain_mongodb-0.1.5-py3-none-any.whl (12 kB)\n",
      "Using cached arxiv-2.1.0-py3-none-any.whl (11 kB)\n",
      "Using cached feedparser-6.0.10-py3-none-any.whl (81 kB)\n",
      "Downloading PyMuPDF-1.24.4-cp311-none-macosx_11_0_arm64.whl (3.0 MB)\n",
      "\u001b[2K   \u001b[90m━━━━━━━━━━━━━━━━━━━━━━━━━━━━━━━━━━━━━━━━\u001b[0m \u001b[32m3.0/3.0 MB\u001b[0m \u001b[31m16.2 MB/s\u001b[0m eta \u001b[36m0:00:00\u001b[0ma \u001b[36m0:00:01\u001b[0m\n",
      "\u001b[?25hUsing cached PyMuPDFb-1.24.3-py3-none-macosx_11_0_arm64.whl (14.9 MB)\n",
      "Using cached datasets-2.19.1-py3-none-any.whl (542 kB)\n",
      "Using cached dill-0.3.8-py3-none-any.whl (116 kB)\n",
      "Using cached fireworks_ai-0.14.0-py3-none-any.whl (81 kB)\n",
      "Using cached langchain_core-0.1.52-py3-none-any.whl (302 kB)\n",
      "Downloading pyarrow-16.1.0-cp311-cp311-macosx_11_0_arm64.whl (26.0 MB)\n",
      "\u001b[2K   \u001b[90m━━━━━━━━━━━━━━━━━━━━━━━━━━━━━━━━━━━━━━━━\u001b[0m \u001b[32m26.0/26.0 MB\u001b[0m \u001b[31m10.4 MB/s\u001b[0m eta \u001b[36m0:00:00\u001b[0m00:01\u001b[0m00:01\u001b[0m\n",
      "\u001b[?25hUsing cached multiprocess-0.70.16-py311-none-any.whl (143 kB)\n",
      "Using cached pyarrow_hotfix-0.6-py3-none-any.whl (7.9 kB)\n",
      "Using cached xxhash-3.4.1-cp311-cp311-macosx_11_0_arm64.whl (30 kB)\n",
      "Using cached httpx_sse-0.4.0-py3-none-any.whl (7.8 kB)\n",
      "Installing collected packages: sgmllib3k, xxhash, PyMuPDFb, pyarrow-hotfix, pyarrow, httpx-sse, feedparser, dill, pymupdf, multiprocess, arxiv, fireworks-ai, langchain-core, datasets, langchain-mongodb, langchain-fireworks\n",
      "  Attempting uninstall: langchain-core\n",
      "    Found existing installation: langchain-core 0.1.40\n",
      "    Uninstalling langchain-core-0.1.40:\n",
      "      Successfully uninstalled langchain-core-0.1.40\n",
      "Successfully installed PyMuPDFb-1.24.3 arxiv-2.1.0 datasets-2.19.1 dill-0.3.8 feedparser-6.0.10 fireworks-ai-0.14.0 httpx-sse-0.4.0 langchain-core-0.1.52 langchain-fireworks-0.1.3 langchain-mongodb-0.1.5 multiprocess-0.70.16 pyarrow-16.1.0 pyarrow-hotfix-0.6 pymupdf-1.24.4 sgmllib3k-1.0.0 xxhash-3.4.1\n"
     ]
    }
   ],
   "source": [
    "!pip install langchain langchain_openai langchain-fireworks langchain-mongodb arxiv pymupdf datasets `pymongo`"
   ]
  },
  {
   "cell_type": "code",
   "execution_count": 21,
   "id": "6d9b44f4-e57f-4e93-bfcf-c649c6ecf5f3",
   "metadata": {},
   "outputs": [],
   "source": [
    "#firewal API Key=ummQ3VRmQDeJZROZWzyXGZAo2JsB8lKD5wQwUSe2Z52Wo9i1\n",
    "\n",
    "# https://fireworks.ai/login?callbackURL=https://fireworks.ai/api-keys"
   ]
  },
  {
   "cell_type": "code",
   "execution_count": 6,
   "id": "00bdf04b-13d5-473e-9327-ce26388f030c",
   "metadata": {},
   "outputs": [],
   "source": [
    "import os\n",
    "\n",
    "# Be sure to have all the API keys in your local environment as shown below\n",
    "# Do not publish environment keys in production\n",
    "os.environ[\"OPENAI_API_KEY\"] = \"sk-proj-c6QyUoCJSg0Wv766Je2fT3BlbkFJSHvQiIuxGYc4MOtD9s3I\"\n",
    "os.environ[\"FIREWORKS_API_KEY\"] = \"ummQ3VRmQDeJZROZWzyXGZAo2JsB8lKD5wQwUSe2Z52Wo9i1\"\n",
    "os.environ[\"MONGO_URI\"] = \"mongodb://localhost:27017/\"\n",
    "\n",
    "FIREWORKS_API_KEY = os.environ.get(\"FIREWORKS_API_KEY\")\n",
    "OPENAI_API_KEY = os.environ.get(\"OPENAI_API_KEY\")\n",
    "MONGO_URI = os.environ.get(\"MONGO_URI\")"
   ]
  },
  {
   "cell_type": "code",
   "execution_count": 7,
   "id": "1795f3b4-9ccc-479e-a703-3440f0a9dd94",
   "metadata": {},
   "outputs": [
    {
     "data": {
      "text/html": [
       "<div>\n",
       "<style scoped>\n",
       "    .dataframe tbody tr th:only-of-type {\n",
       "        vertical-align: middle;\n",
       "    }\n",
       "\n",
       "    .dataframe tbody tr th {\n",
       "        vertical-align: top;\n",
       "    }\n",
       "\n",
       "    .dataframe thead th {\n",
       "        text-align: right;\n",
       "    }\n",
       "</style>\n",
       "<table border=\"1\" class=\"dataframe\">\n",
       "  <thead>\n",
       "    <tr style=\"text-align: right;\">\n",
       "      <th></th>\n",
       "      <th>Issue Key</th>\n",
       "      <th>Summary</th>\n",
       "      <th>Description</th>\n",
       "      <th>Status</th>\n",
       "      <th>Assignee</th>\n",
       "      <th>Comments</th>\n",
       "    </tr>\n",
       "  </thead>\n",
       "  <tbody>\n",
       "    <tr>\n",
       "      <th>0</th>\n",
       "      <td>IN-2</td>\n",
       "      <td>Build JIRA Integration API</td>\n",
       "      <td>None</td>\n",
       "      <td>To Do</td>\n",
       "      <td>Unassigned</td>\n",
       "      <td>[]</td>\n",
       "    </tr>\n",
       "    <tr>\n",
       "      <th>1</th>\n",
       "      <td>IN-1</td>\n",
       "      <td>jira integration</td>\n",
       "      <td>build the system which can take the Jira issue...</td>\n",
       "      <td>To Do</td>\n",
       "      <td>data science</td>\n",
       "      <td>[{'Author': 'data science', 'Created': '2024-0...</td>\n",
       "    </tr>\n",
       "  </tbody>\n",
       "</table>\n",
       "</div>"
      ],
      "text/plain": [
       "  Issue Key                     Summary  \\\n",
       "0      IN-2  Build JIRA Integration API   \n",
       "1      IN-1            jira integration   \n",
       "\n",
       "                                         Description Status      Assignee  \\\n",
       "0                                               None  To Do    Unassigned   \n",
       "1  build the system which can take the Jira issue...  To Do  data science   \n",
       "\n",
       "                                            Comments  \n",
       "0                                                 []  \n",
       "1  [{'Author': 'data science', 'Created': '2024-0...  "
      ]
     },
     "execution_count": 7,
     "metadata": {},
     "output_type": "execute_result"
    }
   ],
   "source": [
    "import pandas as pd\n",
    "import pymongo\n",
    "\n",
    "# MongoDB connection parameters\n",
    "mongo_url = 'mongodb://localhost:27017/'  # Update with your MongoDB connection string\n",
    "mongo_db_name = 'jira_db'  # Update with your database name\n",
    "mongo_collection_name = 'jira_issues'  # Update with your collection name\n",
    "\n",
    "# Connect to MongoDB\n",
    "mongo_client = pymongo.MongoClient(mongo_url)\n",
    "mongo_db = mongo_client[mongo_db_name]\n",
    "mongo_collection = mongo_db[mongo_collection_name]\n",
    "\n",
    "# Query all documents in the collection\n",
    "cursor = mongo_collection.find({})\n",
    "\n",
    "# Convert the cursor to a list\n",
    "data_list = list(cursor)\n",
    "\n",
    "# Close the MongoDB connection\n",
    "mongo_client.close()\n",
    "\n",
    "# Create a DataFrame\n",
    "dataset_df = pd.DataFrame(data_list)\n",
    "\n",
    "# If you don't want the MongoDB '_id' in your DataFrame, you can drop it\n",
    "dataset_df.drop('_id', axis=1, inplace=True)\n",
    "\n",
    "# Now you have a DataFrame 'df' that you can work with\n",
    "dataset_df.head()"
   ]
  },
  {
   "cell_type": "code",
   "execution_count": 8,
   "id": "3dff5dbd-778f-41b7-82b5-e059d237a214",
   "metadata": {},
   "outputs": [],
   "source": [
    "from pymongo import MongoClient\n",
    "\n",
    "# Initialize MongoDB python client\n",
    "client = MongoClient(MONGO_URI)\n",
    "\n",
    "DB_NAME = \"jira_db\"\n",
    "COLLECTION_NAME = \"jira_issues\"\n",
    "ATLAS_VECTOR_SEARCH_INDEX_NAME = \"vector_index\"\n",
    "collection = client.get_database(DB_NAME).get_collection(COLLECTION_NAME)"
   ]
  },
  {
   "cell_type": "code",
   "execution_count": 31,
   "id": "aae9e63d-c6f4-4dfa-b740-3feb8c067cd6",
   "metadata": {},
   "outputs": [
    {
     "name": "stdout",
     "output_type": "stream",
     "text": [
      "Requirement already satisfied: pydantic in /Users/rajesh.kumar3/miniconda3/envs/tf/lib/python3.9/site-packages (1.9.0)\n",
      "Collecting pydantic\n",
      "  Using cached pydantic-2.7.1-py3-none-any.whl.metadata (107 kB)\n",
      "Requirement already satisfied: annotated-types>=0.4.0 in /Users/rajesh.kumar3/miniconda3/envs/tf/lib/python3.9/site-packages (from pydantic) (0.6.0)\n",
      "Collecting pydantic-core==2.18.2 (from pydantic)\n",
      "  Downloading pydantic_core-2.18.2-cp39-cp39-macosx_11_0_arm64.whl.metadata (6.5 kB)\n",
      "Requirement already satisfied: typing-extensions>=4.6.1 in /Users/rajesh.kumar3/miniconda3/envs/tf/lib/python3.9/site-packages (from pydantic) (4.10.0)\n",
      "Using cached pydantic-2.7.1-py3-none-any.whl (409 kB)\n",
      "Downloading pydantic_core-2.18.2-cp39-cp39-macosx_11_0_arm64.whl (1.8 MB)\n",
      "\u001b[2K   \u001b[90m━━━━━━━━━━━━━━━━━━━━━━━━━━━━━━━━━━━━━━━━\u001b[0m \u001b[32m1.8/1.8 MB\u001b[0m \u001b[31m9.1 MB/s\u001b[0m eta \u001b[36m0:00:00\u001b[0ma \u001b[36m0:00:01\u001b[0m\n",
      "\u001b[?25hInstalling collected packages: pydantic-core, pydantic\n",
      "  Attempting uninstall: pydantic-core\n",
      "    Found existing installation: pydantic_core 2.16.3\n",
      "    Uninstalling pydantic_core-2.16.3:\n",
      "      Successfully uninstalled pydantic_core-2.16.3\n",
      "  Attempting uninstall: pydantic\n",
      "    Found existing installation: pydantic 1.9.0\n",
      "    Uninstalling pydantic-1.9.0:\n",
      "      Successfully uninstalled pydantic-1.9.0\n",
      "Successfully installed pydantic-2.7.1 pydantic-core-2.18.2\n"
     ]
    }
   ],
   "source": [
    "!pip install pydantic -U"
   ]
  },
  {
   "cell_type": "code",
   "execution_count": 38,
   "id": "73c8d616-ee3b-4869-b5f4-adfaa4d52bdf",
   "metadata": {},
   "outputs": [],
   "source": [
    "!pip install -qU langchain-openai"
   ]
  },
  {
   "cell_type": "code",
   "execution_count": 41,
   "id": "2e352faf-6511-4c82-87c8-cde62c2b30bd",
   "metadata": {},
   "outputs": [
    {
     "name": "stdout",
     "output_type": "stream",
     "text": [
      "Collecting pydantic==1.10.8\n",
      "  Downloading pydantic-1.10.8-cp39-cp39-macosx_11_0_arm64.whl.metadata (146 kB)\n",
      "\u001b[2K     \u001b[90m━━━━━━━━━━━━━━━━━━━━━━━━━━━━━━━━━━━━━━━\u001b[0m \u001b[32m146.4/146.4 kB\u001b[0m \u001b[31m2.4 MB/s\u001b[0m eta \u001b[36m0:00:00\u001b[0ma \u001b[36m0:00:01\u001b[0m\n",
      "\u001b[?25hRequirement already satisfied: typing-extensions>=4.2.0 in /Users/rajesh.kumar3/miniconda3/envs/tf/lib/python3.9/site-packages (from pydantic==1.10.8) (4.10.0)\n",
      "Downloading pydantic-1.10.8-cp39-cp39-macosx_11_0_arm64.whl (2.6 MB)\n",
      "\u001b[2K   \u001b[90m━━━━━━━━━━━━━━━━━━━━━━━━━━━━━━━━━━━━━━━━\u001b[0m \u001b[32m2.6/2.6 MB\u001b[0m \u001b[31m1.3 MB/s\u001b[0m eta \u001b[36m0:00:00\u001b[0m00:01\u001b[0m00:01\u001b[0m0m\n",
      "\u001b[?25hInstalling collected packages: pydantic\n",
      "  Attempting uninstall: pydantic\n",
      "    Found existing installation: pydantic 2.7.1\n",
      "    Uninstalling pydantic-2.7.1:\n",
      "      Successfully uninstalled pydantic-2.7.1\n",
      "Successfully installed pydantic-1.10.8\n"
     ]
    }
   ],
   "source": [
    "!pip install pydantic==1.10.8"
   ]
  },
  {
   "cell_type": "code",
   "execution_count": 9,
   "id": "c3f351cc-dbe3-4a3e-a285-963617522c33",
   "metadata": {},
   "outputs": [],
   "source": [
    "from langchain_openai import OpenAIEmbeddings\n",
    "\n"
   ]
  },
  {
   "cell_type": "code",
   "execution_count": 10,
   "id": "cb6f27f5-b4c2-4003-bddf-68dd6f3bf0d3",
   "metadata": {},
   "outputs": [
    {
     "name": "stderr",
     "output_type": "stream",
     "text": [
      "/Users/rajesh.kumar3/miniconda3/envs/sql_query/lib/python3.11/site-packages/langchain_core/_api/deprecation.py:119: LangChainDeprecationWarning: The class `OpenAIEmbeddings` was deprecated in LangChain 0.0.9 and will be removed in 0.2.0. An updated version of the class exists in the langchain-openai package and should be used instead. To use it run `pip install -U langchain-openai` and import as `from langchain_openai import OpenAIEmbeddings`.\n",
      "  warn_deprecated(\n",
      "/Users/rajesh.kumar3/miniconda3/envs/sql_query/lib/python3.11/site-packages/langchain_community/embeddings/openai.py:268: UserWarning: WARNING! dimensions is not default parameter.\n",
      "                    dimensions was transferred to model_kwargs.\n",
      "                    Please confirm that dimensions is what you intended.\n",
      "  warnings.warn(\n"
     ]
    }
   ],
   "source": [
    "from langchain.embeddings.openai import OpenAIEmbeddings\n",
    "from langchain_mongodb import MongoDBAtlasVectorSearch\n",
    "\n",
    "embedding_model = OpenAIEmbeddings(model=\"text-embedding-3-small\", dimensions=256)\n",
    "\n",
    "# Vector Store Creation\n",
    "vector_store = MongoDBAtlasVectorSearch.from_connection_string(\n",
    "    connection_string=MONGO_URI,\n",
    "    namespace=DB_NAME + \".\" + COLLECTION_NAME,\n",
    "    embedding= embedding_model,\n",
    "    index_name=ATLAS_VECTOR_SEARCH_INDEX_NAME,\n",
    "    text_key=\"abstract\"\n",
    ")\n",
    "\n",
    "retriever = vector_store.as_retriever(search_type=\"similarity\", search_kwargs={\"k\": 5})\n"
   ]
  },
  {
   "cell_type": "code",
   "execution_count": 11,
   "id": "5ece681a-ba08-4856-8baa-078cc72e20ec",
   "metadata": {},
   "outputs": [],
   "source": [
    "import os\n",
    "from langchain_fireworks import Fireworks\n",
    "\n",
    "llm = Fireworks(\n",
    "    model=\"accounts/fireworks/models/firefunction-v1\",\n",
    "    max_tokens=256)"
   ]
  },
  {
   "cell_type": "code",
   "execution_count": 13,
   "id": "7dd96446-e45e-44cc-886c-f48560714f59",
   "metadata": {},
   "outputs": [],
   "source": [
    "from langchain.agents import tool\n",
    "from langchain.tools.retriever import create_retriever_tool\n",
    "# from langchain_community.document_loaders import ArxivLoader"
   ]
  },
  {
   "cell_type": "code",
   "execution_count": 23,
   "id": "333f1b02-1316-4206-aa53-9b0dc9340941",
   "metadata": {},
   "outputs": [],
   "source": [
    "retriever_tool = create_retriever_tool(\n",
    "    retriever=retriever,\n",
    "    name=\"knowledge_base\",\n",
    "    description=\"This serves as the base knowledge source of the agent and contains some records of Mongo DB collect from JIRA. This tool is used as the first step for exploration and research efforts.\"\n",
    ")"
   ]
  },
  {
   "cell_type": "markdown",
   "id": "f9fbf365-90c1-4581-a309-db183ed3919b",
   "metadata": {},
   "source": [
    "# Attemp-2"
   ]
  },
  {
   "cell_type": "code",
   "execution_count": 1,
   "id": "c4f811a9-d774-4c28-888f-f811b5457a94",
   "metadata": {},
   "outputs": [],
   "source": [
    "from langchain_openai import ChatOpenAI\n",
    "from langchain.chains.llm import LLMChain\n",
    "from langchain.prompts import PromptTemplate\n",
    "import json, re, pymongo\n",
    "from config import ConfigData"
   ]
  },
  {
   "cell_type": "code",
   "execution_count": 2,
   "id": "f9c6fb26-d6b1-45e2-aa6f-106aca611883",
   "metadata": {},
   "outputs": [],
   "source": [
    "llm_openai = ChatOpenAI(openai_api_key=ConfigData.OPEN_AI_KEY, model='gpt-3.5-turbo-0125')\n"
   ]
  },
  {
   "cell_type": "code",
   "execution_count": 3,
   "id": "ea598e83-2e05-46d9-acc0-670aaee65ff7",
   "metadata": {},
   "outputs": [],
   "source": [
    "table_schema = ConfigData.TABLE_SCHEMA\n",
    "schema_description = ConfigData.SCHEMA_DESCRIPTION\n",
    "json_ex_1 = ConfigData.FEW_SHOT_EXAMPLE_1"
   ]
  },
  {
   "cell_type": "code",
   "execution_count": 5,
   "id": "67972cb6-79ea-4444-b98e-6f3b2573a1ac",
   "metadata": {},
   "outputs": [],
   "source": [
    "json_ex_string = json.dumps(json_ex_1)\n"
   ]
  },
  {
   "cell_type": "code",
   "execution_count": 6,
   "id": "546cf46c-2088-47c1-8634-c1bf227ed8c1",
   "metadata": {},
   "outputs": [],
   "source": [
    "prompt_template_for_creating_query = \"\"\"\n",
    "    You are an expert in crafting NoSQL queries for MongoDB with 10 years of experience, particularly in MongoDB. \n",
    "    I will provide you with the table_schema and schema_description in a specified format. \n",
    "    Your task is to read the user_question, which will adhere to certain guidelines or formats, and create a NOSQL MongoDb pipeline accordingly.\n",
    "\n",
    "    Table schema:\"\"\" +  table_schema + \"\"\"\n",
    "    Schema Description: \"\"\" + schema_description + \"\"\"\n",
    "\n",
    "    Here are some example:\n",
    "    Input: name of departments where number of employees is greater than 1000\n",
    "    Output: {json_ex_string_1} \n",
    "\n",
    "    Note: You have to just return the query nothing else. Don't return any additional text with the query.\n",
    "    Input: {user_question}\n",
    "    \"\"\"\n",
    "    \n",
    "query_creation_prompt = PromptTemplate(\n",
    "    template=prompt_template_for_creating_query,\n",
    "    input_variables=[\"user_question\", \"json_ex_string_1\"],\n",
    ")"
   ]
  },
  {
   "cell_type": "code",
   "execution_count": 7,
   "id": "61d68aa0-1c28-41b2-8896-d4806f21750d",
   "metadata": {},
   "outputs": [],
   "source": [
    "llmchain = LLMChain(llm=llm_openai, prompt=query_creation_prompt, verbose=True)\n"
   ]
  },
  {
   "cell_type": "code",
   "execution_count": 8,
   "id": "573f9880-e68c-4df1-bf8b-4fff63206611",
   "metadata": {},
   "outputs": [],
   "source": [
    "def get_query(user_question):\n",
    "    response = llmchain.invoke({\n",
    "        \"user_question\": user_question,\n",
    "        \"json_ex_string_1\": json_ex_string\n",
    "    },ver)\n",
    "\n",
    "    response_text = response['text'].replace(\"Output: \", \"\")\n",
    "    pattern = r'db\\.collectionName\\.aggregate\\(\\s*\\['\n",
    "\n",
    "    output_string = re.sub(pattern, '', response_text)\n",
    "\n",
    "    return json.loads(output_string)"
   ]
  },
  {
   "cell_type": "code",
   "execution_count": 9,
   "id": "16bbfccb-7c16-4106-8367-cf382b39df6e",
   "metadata": {},
   "outputs": [],
   "source": [
    "client = pymongo.MongoClient(ConfigData.MONGO_DB_URI)\n",
    "db = client[ConfigData.DB_NAME]\n",
    "collection_name = db[ConfigData.COLLECTION_NAME]"
   ]
  },
  {
   "cell_type": "code",
   "execution_count": 10,
   "id": "a147694a-2de2-4a4f-bb2f-d329576100ec",
   "metadata": {},
   "outputs": [
    {
     "name": "stdout",
     "output_type": "stream",
     "text": [
      "\n",
      "\n",
      "\u001b[1m> Entering new LLMChain chain...\u001b[0m\n"
     ]
    },
    {
     "ename": "ValueError",
     "evalue": "Missing some input keys: {'\\n                        \"Author\"'}",
     "output_type": "error",
     "traceback": [
      "\u001b[0;31m---------------------------------------------------------------------------\u001b[0m",
      "\u001b[0;31mValueError\u001b[0m                                Traceback (most recent call last)",
      "Cell \u001b[0;32mIn[10], line 1\u001b[0m\n\u001b[0;32m----> 1\u001b[0m query_1 \u001b[38;5;241m=\u001b[39m \u001b[43mget_query\u001b[49m\u001b[43m(\u001b[49m\u001b[43muser_question\u001b[49m\u001b[38;5;241;43m=\u001b[39;49m\u001b[38;5;124;43m\"\u001b[39;49m\u001b[38;5;124;43mHow many total issue are present in jira_issues collection?\u001b[39;49m\u001b[38;5;124;43m\"\u001b[39;49m\u001b[43m)\u001b[49m\n",
      "Cell \u001b[0;32mIn[8], line 2\u001b[0m, in \u001b[0;36mget_query\u001b[0;34m(user_question)\u001b[0m\n\u001b[1;32m      1\u001b[0m \u001b[38;5;28;01mdef\u001b[39;00m \u001b[38;5;21mget_query\u001b[39m(user_question):\n\u001b[0;32m----> 2\u001b[0m     response \u001b[38;5;241m=\u001b[39m \u001b[43mllmchain\u001b[49m\u001b[38;5;241;43m.\u001b[39;49m\u001b[43minvoke\u001b[49m\u001b[43m(\u001b[49m\u001b[43m{\u001b[49m\n\u001b[1;32m      3\u001b[0m \u001b[43m        \u001b[49m\u001b[38;5;124;43m\"\u001b[39;49m\u001b[38;5;124;43muser_question\u001b[39;49m\u001b[38;5;124;43m\"\u001b[39;49m\u001b[43m:\u001b[49m\u001b[43m \u001b[49m\u001b[43muser_question\u001b[49m\u001b[43m,\u001b[49m\n\u001b[1;32m      4\u001b[0m \u001b[43m        \u001b[49m\u001b[38;5;124;43m\"\u001b[39;49m\u001b[38;5;124;43mjson_ex_string_1\u001b[39;49m\u001b[38;5;124;43m\"\u001b[39;49m\u001b[43m:\u001b[49m\u001b[43m \u001b[49m\u001b[43mjson_ex_string\u001b[49m\n\u001b[1;32m      5\u001b[0m \u001b[43m    \u001b[49m\u001b[43m}\u001b[49m\u001b[43m)\u001b[49m\n\u001b[1;32m      7\u001b[0m     response_text \u001b[38;5;241m=\u001b[39m response[\u001b[38;5;124m'\u001b[39m\u001b[38;5;124mtext\u001b[39m\u001b[38;5;124m'\u001b[39m]\u001b[38;5;241m.\u001b[39mreplace(\u001b[38;5;124m\"\u001b[39m\u001b[38;5;124mOutput: \u001b[39m\u001b[38;5;124m\"\u001b[39m, \u001b[38;5;124m\"\u001b[39m\u001b[38;5;124m\"\u001b[39m)\n\u001b[1;32m      8\u001b[0m     pattern \u001b[38;5;241m=\u001b[39m \u001b[38;5;124mr\u001b[39m\u001b[38;5;124m'\u001b[39m\u001b[38;5;124mdb\u001b[39m\u001b[38;5;124m\\\u001b[39m\u001b[38;5;124m.collectionName\u001b[39m\u001b[38;5;124m\\\u001b[39m\u001b[38;5;124m.aggregate\u001b[39m\u001b[38;5;124m\\\u001b[39m\u001b[38;5;124m(\u001b[39m\u001b[38;5;124m\\\u001b[39m\u001b[38;5;124ms*\u001b[39m\u001b[38;5;124m\\\u001b[39m\u001b[38;5;124m[\u001b[39m\u001b[38;5;124m'\u001b[39m\n",
      "File \u001b[0;32m~/miniconda3/envs/sql_query/lib/python3.11/site-packages/langchain/chains/base.py:163\u001b[0m, in \u001b[0;36mChain.invoke\u001b[0;34m(self, input, config, **kwargs)\u001b[0m\n\u001b[1;32m    161\u001b[0m \u001b[38;5;28;01mexcept\u001b[39;00m \u001b[38;5;167;01mBaseException\u001b[39;00m \u001b[38;5;28;01mas\u001b[39;00m e:\n\u001b[1;32m    162\u001b[0m     run_manager\u001b[38;5;241m.\u001b[39mon_chain_error(e)\n\u001b[0;32m--> 163\u001b[0m     \u001b[38;5;28;01mraise\u001b[39;00m e\n\u001b[1;32m    164\u001b[0m run_manager\u001b[38;5;241m.\u001b[39mon_chain_end(outputs)\n\u001b[1;32m    166\u001b[0m \u001b[38;5;28;01mif\u001b[39;00m include_run_info:\n",
      "File \u001b[0;32m~/miniconda3/envs/sql_query/lib/python3.11/site-packages/langchain/chains/base.py:151\u001b[0m, in \u001b[0;36mChain.invoke\u001b[0;34m(self, input, config, **kwargs)\u001b[0m\n\u001b[1;32m    145\u001b[0m run_manager \u001b[38;5;241m=\u001b[39m callback_manager\u001b[38;5;241m.\u001b[39mon_chain_start(\n\u001b[1;32m    146\u001b[0m     dumpd(\u001b[38;5;28mself\u001b[39m),\n\u001b[1;32m    147\u001b[0m     inputs,\n\u001b[1;32m    148\u001b[0m     name\u001b[38;5;241m=\u001b[39mrun_name,\n\u001b[1;32m    149\u001b[0m )\n\u001b[1;32m    150\u001b[0m \u001b[38;5;28;01mtry\u001b[39;00m:\n\u001b[0;32m--> 151\u001b[0m     \u001b[38;5;28;43mself\u001b[39;49m\u001b[38;5;241;43m.\u001b[39;49m\u001b[43m_validate_inputs\u001b[49m\u001b[43m(\u001b[49m\u001b[43minputs\u001b[49m\u001b[43m)\u001b[49m\n\u001b[1;32m    152\u001b[0m     outputs \u001b[38;5;241m=\u001b[39m (\n\u001b[1;32m    153\u001b[0m         \u001b[38;5;28mself\u001b[39m\u001b[38;5;241m.\u001b[39m_call(inputs, run_manager\u001b[38;5;241m=\u001b[39mrun_manager)\n\u001b[1;32m    154\u001b[0m         \u001b[38;5;28;01mif\u001b[39;00m new_arg_supported\n\u001b[1;32m    155\u001b[0m         \u001b[38;5;28;01melse\u001b[39;00m \u001b[38;5;28mself\u001b[39m\u001b[38;5;241m.\u001b[39m_call(inputs)\n\u001b[1;32m    156\u001b[0m     )\n\u001b[1;32m    158\u001b[0m     final_outputs: Dict[\u001b[38;5;28mstr\u001b[39m, Any] \u001b[38;5;241m=\u001b[39m \u001b[38;5;28mself\u001b[39m\u001b[38;5;241m.\u001b[39mprep_outputs(\n\u001b[1;32m    159\u001b[0m         inputs, outputs, return_only_outputs\n\u001b[1;32m    160\u001b[0m     )\n",
      "File \u001b[0;32m~/miniconda3/envs/sql_query/lib/python3.11/site-packages/langchain/chains/base.py:279\u001b[0m, in \u001b[0;36mChain._validate_inputs\u001b[0;34m(self, inputs)\u001b[0m\n\u001b[1;32m    277\u001b[0m missing_keys \u001b[38;5;241m=\u001b[39m \u001b[38;5;28mset\u001b[39m(\u001b[38;5;28mself\u001b[39m\u001b[38;5;241m.\u001b[39minput_keys)\u001b[38;5;241m.\u001b[39mdifference(inputs)\n\u001b[1;32m    278\u001b[0m \u001b[38;5;28;01mif\u001b[39;00m missing_keys:\n\u001b[0;32m--> 279\u001b[0m     \u001b[38;5;28;01mraise\u001b[39;00m \u001b[38;5;167;01mValueError\u001b[39;00m(\u001b[38;5;124mf\u001b[39m\u001b[38;5;124m\"\u001b[39m\u001b[38;5;124mMissing some input keys: \u001b[39m\u001b[38;5;132;01m{\u001b[39;00mmissing_keys\u001b[38;5;132;01m}\u001b[39;00m\u001b[38;5;124m\"\u001b[39m)\n",
      "\u001b[0;31mValueError\u001b[0m: Missing some input keys: {'\\n                        \"Author\"'}"
     ]
    }
   ],
   "source": [
    "query_1 = get_query(user_question=\"How many total issue are present in jira_issues collection?\")"
   ]
  },
  {
   "cell_type": "markdown",
   "id": "2c87bb19-a0d1-44b9-94b7-38cb23b9395d",
   "metadata": {},
   "source": [
    "# Attempt-3"
   ]
  },
  {
   "cell_type": "code",
   "execution_count": 13,
   "id": "93a11e43-dbb7-4695-834d-f3a3bf7c4c46",
   "metadata": {},
   "outputs": [],
   "source": [
    "# add this import for running in jupyter notebook\n",
    "import nest_asyncio\n",
    "\n",
    "nest_asyncio.apply()"
   ]
  },
  {
   "cell_type": "code",
   "execution_count": 14,
   "id": "e71345b7-5273-49c5-890d-ae5743739036",
   "metadata": {},
   "outputs": [],
   "source": [
    "from langchain_community.document_loaders.mongodb import MongodbLoader\n",
    "\n"
   ]
  },
  {
   "cell_type": "code",
   "execution_count": 17,
   "id": "e91064c1-ea96-4529-9b6d-afe4b6ce4279",
   "metadata": {},
   "outputs": [
    {
     "name": "stdout",
     "output_type": "stream",
     "text": [
      "Collecting motor\n",
      "  Downloading motor-3.4.0-py3-none-any.whl.metadata (21 kB)\n",
      "Requirement already satisfied: pymongo<5,>=4.5 in /Users/rajesh.kumar3/miniconda3/envs/sql_query/lib/python3.11/site-packages (from motor) (4.7.2)\n",
      "Requirement already satisfied: dnspython<3.0.0,>=1.16.0 in /Users/rajesh.kumar3/miniconda3/envs/sql_query/lib/python3.11/site-packages (from pymongo<5,>=4.5->motor) (2.6.1)\n",
      "Downloading motor-3.4.0-py3-none-any.whl (74 kB)\n",
      "\u001b[2K   \u001b[90m━━━━━━━━━━━━━━━━━━━━━━━━━━━━━━━━━━━━━━━━\u001b[0m \u001b[32m74.3/74.3 kB\u001b[0m \u001b[31m2.4 MB/s\u001b[0m eta \u001b[36m0:00:00\u001b[0m\n",
      "\u001b[?25hInstalling collected packages: motor\n",
      "Successfully installed motor-3.4.0\n"
     ]
    }
   ],
   "source": [
    "!pip install motor"
   ]
  },
  {
   "cell_type": "code",
   "execution_count": 18,
   "id": "07d2f8b4-d313-4cbd-83c4-08c8d61a1025",
   "metadata": {},
   "outputs": [],
   "source": [
    "loader = MongodbLoader(\n",
    "    connection_string=\"mongodb://localhost:27017/\",\n",
    "    db_name=\"jira_db\",\n",
    "    collection_name=\"jira_issues\",\n",
    "    # filter_criteria={\"Issue Key\": \"Summary\", \"Description\": \"Status\",\"Assignee\",\"Comments\"},\n",
    "    # field_names=[\"Author\", \"Created\",\"Comment\"],\n",
    ")"
   ]
  },
  {
   "cell_type": "code",
   "execution_count": 19,
   "id": "d12eb4f7-9c5e-4d2d-9e3a-1408766195d3",
   "metadata": {},
   "outputs": [
    {
     "data": {
      "text/plain": [
       "2"
      ]
     },
     "execution_count": 19,
     "metadata": {},
     "output_type": "execute_result"
    }
   ],
   "source": [
    "docs = loader.load()\n",
    "\n",
    "len(docs)"
   ]
  },
  {
   "cell_type": "code",
   "execution_count": 20,
   "id": "191c383b-9552-49d7-a7b4-870cc1cab647",
   "metadata": {},
   "outputs": [
    {
     "data": {
      "text/plain": [
       "Document(page_content=\"{'_id': ObjectId('664cc0eb39d22fdc82420efc'), 'Issue Key': 'IN-2', 'Summary': 'Build JIRA Integration API', 'Description': None, 'Status': 'To Do', 'Assignee': 'Unassigned', 'Comments': [{'Author': 'data science', 'Created': '2024-05-21T21:11:57.437+0530', 'Comment': 'this is for testing…'}]}\", metadata={'database': 'jira_db', 'collection': 'jira_issues'})"
      ]
     },
     "execution_count": 20,
     "metadata": {},
     "output_type": "execute_result"
    }
   ],
   "source": [
    "docs[0]"
   ]
  },
  {
   "cell_type": "code",
   "execution_count": 22,
   "id": "7e8c2772-213c-4a78-9847-9109886d7579",
   "metadata": {},
   "outputs": [],
   "source": [
    "data_dict = docs[0].page_content.replace(\"'\", '\"')"
   ]
  },
  {
   "cell_type": "code",
   "execution_count": 23,
   "id": "951f5852-246e-4157-9394-bde72e77701a",
   "metadata": {},
   "outputs": [
    {
     "data": {
      "text/plain": [
       "'{\"_id\": ObjectId(\"664cc0eb39d22fdc82420efc\"), \"Issue Key\": \"IN-2\", \"Summary\": \"Build JIRA Integration API\", \"Description\": None, \"Status\": \"To Do\", \"Assignee\": \"Unassigned\", \"Comments\": [{\"Author\": \"data science\", \"Created\": \"2024-05-21T21:11:57.437+0530\", \"Comment\": \"this is for testing…\"}]}'"
      ]
     },
     "execution_count": 23,
     "metadata": {},
     "output_type": "execute_result"
    }
   ],
   "source": [
    "data_dict"
   ]
  },
  {
   "cell_type": "code",
   "execution_count": 27,
   "id": "dfa36f03-4f5e-4d3c-bbae-7c06d059a92a",
   "metadata": {},
   "outputs": [
    {
     "name": "stdout",
     "output_type": "stream",
     "text": [
      "{\n",
      "    \"_id\": \"664cc0eb39d22fdc82420efc\",\n",
      "    \"Issue Key\": \"IN-2\",\n",
      "    \"Summary\": \"Build JIRA Integration API\",\n",
      "    \"Description\": null,\n",
      "    \"Status\": \"To Do\",\n",
      "    \"Assignee\": \"Unassigned\",\n",
      "    \"Comments\": [\n",
      "        {\n",
      "            \"Author\": \"data science\",\n",
      "            \"Created\": \"2024-05-21T21:11:57.437+0530\",\n",
      "            \"Comment\": \"this is for testing\\u2026\"\n",
      "        }\n",
      "    ]\n",
      "}\n",
      "\n",
      "\n",
      "\n",
      "\n",
      "\n",
      "{\n",
      "    \"_id\": \"664cc0eb39d22fdc82420efd\",\n",
      "    \"Issue Key\": \"IN-1\",\n",
      "    \"Summary\": \"jira integration\",\n",
      "    \"Description\": \"build the system which can take the Jira issues and develop the code by understanding the summary.\",\n",
      "    \"Status\": \"To Do\",\n",
      "    \"Assignee\": \"data science\",\n",
      "    \"Comments\": [\n",
      "        {\n",
      "            \"Author\": \"data science\",\n",
      "            \"Created\": \"2024-05-20T22:54:37.247+0530\",\n",
      "            \"Comment\": \"design the initial setup to fetch the information from Jira and store in DB\"\n",
      "        },\n",
      "        {\n",
      "            \"Author\": \"data science\",\n",
      "            \"Created\": \"2024-05-20T23:16:14.489+0530\",\n",
      "            \"Comment\": \"test commet1\"\n",
      "        }\n",
      "    ]\n",
      "}\n",
      "\n",
      "\n",
      "\n",
      "\n",
      "\n"
     ]
    }
   ],
   "source": [
    "import json\n",
    "from bson import ObjectId\n",
    "json_data_obj = []\n",
    "# Your data string with ObjectId and None\n",
    "for i in range(len(docs)):\n",
    "    data = docs[i].page_content.replace(\"'\", '\"')\n",
    "    # Convert ObjectId to string and None to null\n",
    "    data = data.replace('ObjectId(', '').replace(')', '').replace('None', 'null')\n",
    "    \n",
    "    # Convert the string to a JSON object\n",
    "    try:\n",
    "        data_json = json.loads(data)\n",
    "    except json.JSONDecodeError as e:\n",
    "        print(f\"An error occurred: {e}\")\n",
    "    json_data = json.dumps(data_json, indent=4)\n",
    "    json_data_obj.append(json_data)\n",
    "    # Print the JSON object\n",
    "    print(json.dumps(data_json, indent=4))\n",
    "    print(\"\\n\\n\\n\\n\")"
   ]
  },
  {
   "cell_type": "code",
   "execution_count": 29,
   "id": "e3a901c9-95ae-4cb4-bd30-3a7ed44406e3",
   "metadata": {},
   "outputs": [
    {
     "name": "stdout",
     "output_type": "stream",
     "text": [
      "['{\\n    \"_id\": \"664cc0eb39d22fdc82420efc\",\\n    \"Issue Key\": \"IN-2\",\\n    \"Summary\": \"Build JIRA Integration API\",\\n    \"Description\": null,\\n    \"Status\": \"To Do\",\\n    \"Assignee\": \"Unassigned\",\\n    \"Comments\": [\\n        {\\n            \"Author\": \"data science\",\\n            \"Created\": \"2024-05-21T21:11:57.437+0530\",\\n            \"Comment\": \"this is for testing\\\\u2026\"\\n        }\\n    ]\\n}', '{\\n    \"_id\": \"664cc0eb39d22fdc82420efd\",\\n    \"Issue Key\": \"IN-1\",\\n    \"Summary\": \"jira integration\",\\n    \"Description\": \"build the system which can take the Jira issues and develop the code by understanding the summary.\",\\n    \"Status\": \"To Do\",\\n    \"Assignee\": \"data science\",\\n    \"Comments\": [\\n        {\\n            \"Author\": \"data science\",\\n            \"Created\": \"2024-05-20T22:54:37.247+0530\",\\n            \"Comment\": \"design the initial setup to fetch the information from Jira and store in DB\"\\n        },\\n        {\\n            \"Author\": \"data science\",\\n            \"Created\": \"2024-05-20T23:16:14.489+0530\",\\n            \"Comment\": \"test commet1\"\\n        }\\n    ]\\n}']\n"
     ]
    }
   ],
   "source": [
    "print(json_data_obj)"
   ]
  },
  {
   "cell_type": "code",
   "execution_count": 43,
   "id": "954eac87-b5b9-4c85-bb25-9eaf508aad9d",
   "metadata": {},
   "outputs": [],
   "source": [
    "import json\n",
    "from bson import ObjectId\n",
    "\n",
    "# Create an empty list to store the JSON objects\n",
    "json_data_list = {\"dummy\":[]}\n",
    "\n",
    "# Assume 'docs' is a list of objects that contain the 'page_content' attribute\n",
    "for doc in docs:\n",
    "    data = doc.page_content.replace(\"'\", '\"')\n",
    "    # Convert ObjectId to string and None to null\n",
    "    data = data.replace('ObjectId(', '').replace(')', '').replace('None', 'null')\n",
    "\n",
    "    # Convert the string to a JSON object\n",
    "    try:\n",
    "        data_json = json.loads(data)\n",
    "        json_data_list['dummy'].append(data_json)  # Append the dictionary to the list\n",
    "    except json.JSONDecodeError as e:\n",
    "        print(f\"An error occurred: {e}\")\n",
    "\n",
    "# Write the list of JSON objects to a file\n",
    "with open('output3.json', 'w', encoding='utf-8') as f:\n",
    "    json.dump(json_data_list, f, ensure_ascii=False, indent=4)"
   ]
  },
  {
   "cell_type": "code",
   "execution_count": 46,
   "id": "012b753e-a87c-469b-82d5-6a718036321b",
   "metadata": {},
   "outputs": [
    {
     "data": {
      "text/plain": [
       "{'dummy': [{'_id': '664cc0eb39d22fdc82420efc',\n",
       "   'Issue Key': 'IN-2',\n",
       "   'Summary': 'Build JIRA Integration API',\n",
       "   'Description': None,\n",
       "   'Status': 'To Do',\n",
       "   'Assignee': 'Unassigned',\n",
       "   'Comments': [{'Author': 'data science',\n",
       "     'Created': '2024-05-21T21:11:57.437+0530',\n",
       "     'Comment': 'this is for testing…'}]},\n",
       "  {'_id': '664cc0eb39d22fdc82420efd',\n",
       "   'Issue Key': 'IN-1',\n",
       "   'Summary': 'jira integration',\n",
       "   'Description': 'build the system which can take the Jira issues and develop the code by understanding the summary.',\n",
       "   'Status': 'To Do',\n",
       "   'Assignee': 'data science',\n",
       "   'Comments': [{'Author': 'data science',\n",
       "     'Created': '2024-05-20T22:54:37.247+0530',\n",
       "     'Comment': 'design the initial setup to fetch the information from Jira and store in DB'},\n",
       "    {'Author': 'data science',\n",
       "     'Created': '2024-05-20T23:16:14.489+0530',\n",
       "     'Comment': 'test commet1'}]}]}"
      ]
     },
     "execution_count": 46,
     "metadata": {},
     "output_type": "execute_result"
    }
   ],
   "source": [
    "json_data_list"
   ]
  },
  {
   "cell_type": "code",
   "execution_count": 48,
   "id": "b417c444-6aa8-4f8e-9fe4-5ffebcf74483",
   "metadata": {},
   "outputs": [],
   "source": [
    "# filename = 'output3.json'\n",
    "\n",
    "# # Open the file and load its contents\n",
    "# with open(filename, 'r', encoding='utf-8') as file:\n",
    "#     data = json.load(file)"
   ]
  },
  {
   "cell_type": "code",
   "execution_count": 47,
   "id": "06c309c0-9493-4dfd-903e-25508088dac6",
   "metadata": {},
   "outputs": [
    {
     "name": "stdout",
     "output_type": "stream",
     "text": [
      "\n",
      "\n",
      "\u001b[1m> Entering new AgentExecutor chain...\u001b[0m\n",
      "\u001b[32;1m\u001b[1;3mAction: json_spec_list_keys\n",
      "Action Input: data\u001b[0m\n",
      "Observation: \u001b[36;1m\u001b[1;3m['dummy']\u001b[0m\n",
      "Thought:\u001b[32;1m\u001b[1;3mThere is only one key in the JSON named 'dummy'. I should explore this key to find more information.\n",
      "Action: json_spec_list_keys\n",
      "Action Input: data[\"dummy\"]\u001b[0m\n",
      "Observation: \u001b[36;1m\u001b[1;3mValueError('Value at path `data[\"dummy\"]` is not a dict, get the value directly.')\u001b[0m\n",
      "Thought:\u001b[32;1m\u001b[1;3mThe 'dummy' key does not contain a dictionary, so I should use the `json_spec_get_value` tool to see what it contains.\n",
      "Action: json_spec_get_value\n",
      "Action Input: data[\"dummy\"]\u001b[0m\n",
      "Observation: \u001b[33;1m\u001b[1;3m[{'_id': '664cc0eb39d22fdc82420efc', 'Issue Key': 'IN-2', 'Summary': 'Build JIRA Integration API', 'Description': None, 'Status': 'To Do', 'Assignee': 'Unassigned', 'Comments': [{'Author': 'data science', 'Created': '2024-05-21T21:11:57.437+0530', 'Comment': 'this is for testing…'}]}, {'_id': '664cc0eb39d22fdc82420efd', 'Issue Key': 'IN-1', 'Summary': 'jira integration', 'Description': 'build the system which can take the Jira issues and develop the code by understanding the summary.', 'Status': 'To Do', 'Assignee': 'data science', 'Comments': [{'Author': 'data science', 'Created': '2024-05-20T22:54:37.247+0530', 'Comment': 'design the initial setup to fetch the information from Jira and store in DB'}, {'Author': 'data science', 'Created': '2024-05-20T23:16:14.489+0530', 'Comment': 'test commet1'}]}]\u001b[0m\n",
      "Thought:\u001b[32;1m\u001b[1;3mThe 'dummy' key contains a list of dictionaries, each representing an issue. The 'Assignee' key within each issue dictionary indicates who the issue is assigned to. I need to find the issues assigned to 'data science'.\n",
      "Final Answer: The issue assigned to data science is 'jira integration' with the issue key 'IN-1'.\u001b[0m\n",
      "\n",
      "\u001b[1m> Finished chain.\u001b[0m\n",
      "The issue assigned to data science is 'jira integration' with the issue key 'IN-1'.\n"
     ]
    }
   ],
   "source": [
    "from langchain.chat_models import ChatOpenAI\n",
    "from langchain.agents import create_json_agent\n",
    "from langchain.agents.agent_toolkits import JsonToolkit\n",
    "from langchain.tools.json.tool import  JsonSpec\n",
    "import json\n",
    "\n",
    "# file=\"output2.json\"\n",
    "# with open(file,\"r\") as f1:\n",
    "#     data=json.load(f1)\n",
    "#     f1.close()\n",
    "data=json_data_list\n",
    "spec=JsonSpec(dict_=data,max_value_length=4000)\n",
    "toolkit=JsonToolkit(spec=spec)\n",
    "agent=create_json_agent(llm=ChatOpenAI(temperature=0,model=\"gpt-4\",openai_api_key=\"sk-proj-c6QyUoCJSg0Wv766Je2fT3BlbkFJSHvQiIuxGYc4MOtD9s3I\"),toolkit=toolkit,max_iterations=1000,verbose=True)\n",
    "print(agent.run(\"which issue assigned to data science\"))"
   ]
  },
  {
   "cell_type": "code",
   "execution_count": null,
   "id": "4cd32db9-1552-4e54-b76c-185a55a0eaf7",
   "metadata": {},
   "outputs": [],
   "source": []
  }
 ],
 "metadata": {
  "kernelspec": {
   "display_name": "Python 3 (ipykernel)",
   "language": "python",
   "name": "python3"
  },
  "language_info": {
   "codemirror_mode": {
    "name": "ipython",
    "version": 3
   },
   "file_extension": ".py",
   "mimetype": "text/x-python",
   "name": "python",
   "nbconvert_exporter": "python",
   "pygments_lexer": "ipython3",
   "version": "3.11.8"
  }
 },
 "nbformat": 4,
 "nbformat_minor": 5
}
